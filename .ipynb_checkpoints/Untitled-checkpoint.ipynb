{
 "cells": [
  {
   "cell_type": "code",
   "execution_count": 2,
   "metadata": {},
   "outputs": [],
   "source": [
    "from __future__ import print_function\n",
    "from PIL import Image\n",
    "from skimage import io\n",
    "from skimage.transform import radon\n",
    "import math\n",
    "from skimage.transform import rotate\n",
    "from matplotlib import pyplot as plt\n",
    "import numpy as np\n",
    "from scipy import ndimage\n",
    "\n",
    "from ipywidgets import interact, interactive, fixed, interact_manual\n",
    "import ipywidgets as widgets"
   ]
  },
  {
   "cell_type": "code",
   "execution_count": 3,
   "metadata": {},
   "outputs": [],
   "source": [
    "def bresenham(x1,y1,x2, y2):  \n",
    "    dx = x2 - x1\n",
    "    dy = y2 - y1\n",
    "\n",
    "    is_steep = abs(dy) > abs(dx)\n",
    "    if is_steep:\n",
    "        x1, y1 = y1, x1\n",
    "        x2, y2 = y2, x2\n",
    "\n",
    "    swapped = False\n",
    "    if x1 > x2:\n",
    "        x1, x2 = x2, x1\n",
    "        y1, y2 = y2, y1\n",
    "        swapped = True\n",
    "\n",
    "    dx = x2 - x1\n",
    "    dy = y2 - y1\n",
    " \n",
    "    error = int(dx / 2.0)\n",
    "    ystep = 1 if y1 < y2 else -1 \n",
    "    y = y1\n",
    "    points = []\n",
    "    for x in range(x1, x2 + 1):\n",
    "        coord = (y, x) if is_steep else (x, y)\n",
    "        points.append(coord)\n",
    "        error -= abs(dy)\n",
    "        if error < 0:\n",
    "            y += ystep\n",
    "            error += dx\n",
    "    if swapped:\n",
    "        points.reverse()\n",
    "    return points"
   ]
  },
  {
   "cell_type": "code",
   "execution_count": 4,
   "metadata": {},
   "outputs": [],
   "source": [
    "def symultomograf(plik='tomograf-zdjecia/Shepp_logan.jpg',krok=1,n=50,rozpkat=180,podajlinie=False):\n",
    "    img = io.imread(plik, as_gray=True)\n",
    "    theta=1 #kat   \n",
    "    detectors=[]\n",
    "    emiters=[]  \n",
    "    rozpkat=rozpkat*math.pi/180\n",
    "    obrazwyj=[]\n",
    "    r2=int(math.sqrt(img.shape[0]**2 + img.shape[1]**2)/2)#promien\n",
    "    r=min(img.shape)//2\n",
    "    odwrotnalinie=[]\n",
    "    ile=0\n",
    "    for i in np.arange(1,180,krok):\n",
    "        theta=i*math.pi/180\n",
    "        ile+=1\n",
    "        x=r*math.cos(theta)\n",
    "        y=r*math.sin(theta)\n",
    "        for j in range(n):       \n",
    "            xd=r*math.cos((theta+math.pi-rozpkat/2)+j*rozpkat/(n-1))\n",
    "            yd=r*math.sin((theta+math.pi-rozpkat/2)+j*rozpkat/(n-1))\n",
    "\n",
    "            detectors.append([xd,yd])\n",
    "        for z in detectors:\n",
    "            xe=z[0]*(-1)\n",
    "            ye=z[1]*(-1)\n",
    "\n",
    "            emiters.append([xe,ye])\n",
    "        detectors=detectors[::-1]       \n",
    "        for k in range(n):        \n",
    "            linia=bresenham(round(detectors[k][0]+r),round(detectors[k][1]+r),round(emiters[k][0]+r),round(emiters[k][1]+r))        \n",
    "            wartosci=[]\n",
    "            odwrotnalinie.append(linia)\n",
    "            for l in linia:            \n",
    "                l2x=round(l[0])\n",
    "                l2y=round(l[1])\n",
    "                if(l2y>=img.shape[1] or l2x>=img.shape[0]):                \n",
    "                    wartosci.append(0.0)\n",
    "                else:\n",
    "                    wartosci.append(img[l2x][l2y])\n",
    "            obrazwyj.append(np.average(wartosci))  \n",
    "        detectors.clear()\n",
    "        emiters.clear()\n",
    "\n",
    "\n",
    "    obrazwyj2=np.array(obrazwyj)\n",
    "    obrazwyj2 = np.reshape(obrazwyj2, (ile, n))\n",
    "    im =Image.fromarray(obrazwyj2)\n",
    "    max2=np.max(obrazwyj2)\n",
    "    min2=np.min(obrazwyj2)\n",
    "    for i in range(len(obrazwyj2)):\n",
    "        for j in range(len(obrazwyj2[i])):    \n",
    "            obrazwyj2[i][j]=(obrazwyj2[i][j]-min2)/(max2-min2)\n",
    "    if(podajlinie):\n",
    "        return obrazwyj2,odwrotnalinie,img;\n"
   ]
  },
  {
   "cell_type": "code",
   "execution_count": null,
   "metadata": {},
   "outputs": [],
   "source": []
  },
  {
   "cell_type": "code",
   "execution_count": 5,
   "metadata": {},
   "outputs": [],
   "source": [
    "def odwrotnaprzestarzala():\n",
    "    odwrotnawynik=[]\n",
    "    obrazwynikow=np.zeros((img.shape[0]+1,img.shape[1]+1))\n",
    "    licznik=0\n",
    "    for linia in odwrotnalinie:\n",
    "        for l in linia:\n",
    "            obrazwynikow[l[0]][l[1]]+=obrazwyj[licznik]\n",
    "        licznik+=1\n",
    "    for i in range(len(obrazwynikow)):\n",
    "        obrazwynikow[i]=(obrazwynikow[i]-np.min(obrazwynikow))/(np.max(obrazwynikow)-np.min(obrazwynikow))\n",
    " "
   ]
  },
  {
   "cell_type": "code",
   "execution_count": 6,
   "metadata": {},
   "outputs": [],
   "source": [
    "def odwrotna(odwrotnalinie,obrazwyj,img):\n",
    "    odwrotnawynik=[]\n",
    "    obrazwynikow=np.zeros((img.shape[0]+1,img.shape[1]+1))\n",
    "    licznik=0\n",
    "    \n",
    "    obrazwyj=obrazwyj.flatten()\n",
    "    sumator=np.zeros((img.shape[0]+1,img.shape[1]+1))\n",
    "    for linia in odwrotnalinie:\n",
    "        for l in linia:\n",
    "            obrazwynikow[l[0]][l[1]]+=obrazwyj[licznik]\n",
    "            sumator[l[0]][l[1]]+=1\n",
    "        licznik+=1\n",
    "    for i in range(len(sumator)):\n",
    "        for j in range(len(sumator[i])):\n",
    "            if(sumator[i][j]>0):\n",
    "                obrazwynikow[i][j]=obrazwynikow[i][j]/sumator[i][j]\n",
    "    max2=np.max(obrazwynikow)\n",
    "    min2=np.min(obrazwynikow)\n",
    "    for i in range(len(obrazwynikow)):\n",
    "        for j in range(len(obrazwynikow[i])):\n",
    "            obrazwynikow[i][j]=(obrazwynikow[i][j]-min2)/(max2-min2)\n",
    "    return obrazwynikow\n"
   ]
  },
  {
   "cell_type": "code",
   "execution_count": 56,
   "metadata": {},
   "outputs": [],
   "source": [
    "obrposymu,linie,img=symultomograf(podajlinie=True) #zwraca obraz i linie\n",
    "obrpoodwrotnej=odwrotna(linie,obrposymu,img)"
   ]
  },
  {
   "cell_type": "code",
   "execution_count": 8,
   "metadata": {},
   "outputs": [
    {
     "name": "stdout",
     "output_type": "stream",
     "text": [
      "[]\n"
     ]
    }
   ],
   "source": [
    "print(obrposymu[1:1])"
   ]
  },
  {
   "cell_type": "code",
   "execution_count": 73,
   "metadata": {},
   "outputs": [
    {
     "data": {
      "application/vnd.jupyter.widget-view+json": {
       "model_id": "6363c4a9248c4df5918537ff78bd9267",
       "version_major": 2,
       "version_minor": 0
      },
      "text/plain": [
       "interactive(children=(IntSlider(value=91, description='m', max=180, min=2), Output(layout=Layout(height='350px…"
      ]
     },
     "metadata": {},
     "output_type": "display_data"
    }
   ],
   "source": [
    "\n",
    "def intersinogram(m):\n",
    "    b,linie,img = symultomograf(rozpkat=m, podajlinie=True)\n",
    "    n=50\n",
    "    plt.figure(2)\n",
    "    x = np.linspace(0, n, num=1000)\n",
    "    plt.imshow(ndimage.rotate(b, 90))\n",
    "    plt.ylim(0, n)\n",
    "    plt.show()\n",
    "\n",
    "#interactive_plot = interactive(f, m=(2,180),b=obrposymu)\n",
    "#output = interactive_plot.children[-1]\n",
    "#output.layout.height = '350px'\n",
    "#interactive_plot\n",
    " \n",
    "interactive_plot = interactive(intersinogram, m=(2,180))\n",
    "output = interactive_plot.children[-1]\n",
    "output.layout.height = '350px'\n",
    "interactive_plot\n"
   ]
  },
  {
   "cell_type": "code",
   "execution_count": 10,
   "metadata": {},
   "outputs": [
    {
     "data": {
      "application/vnd.jupyter.widget-view+json": {
       "model_id": "3ef97039371b444e9b403269802addb2",
       "version_major": 2,
       "version_minor": 0
      },
      "text/plain": [
       "interactive(children=(IntSlider(value=90, description='m', max=180, min=1), Output(layout=Layout(height='350px…"
      ]
     },
     "metadata": {},
     "output_type": "display_data"
    }
   ],
   "source": [
    "def odwrotnadosym(odwrotnalinie,obrazwyj,img,ile):\n",
    "    odwrotnawynik=[]\n",
    "    obrazwynikow=np.zeros((img.shape[0]+1,img.shape[1]+1))\n",
    "    licznik=0\n",
    "    ile2=len(obrazwyj)\n",
    "    n=len(obrazwyj[0])\n",
    "    obrazwyj=obrazwyj.flatten()\n",
    "    licznik2=ile\n",
    "    \n",
    "    liczniklini=0\n",
    "    for linia in odwrotnalinie:            \n",
    "        for l in linia:\n",
    "                obrazwynikow[l[0]][l[1]]+=obrazwyj[licznik]\n",
    "        liczniklini+=1\n",
    "        if(liczniklini==ile*n):\n",
    "            break\n",
    "        licznik+=1\n",
    "    return obrazwynikow\n",
    "def interodwrotny(m, obrposymu,linie,img):\n",
    "    plt.imshow(odwrotnadosym(linie,obrposymu,img,m))\n",
    "    plt.show()\n",
    "obrposymu2,linie2,img2=symultomograf(podajlinie=True)\n",
    "interactive_plot = interactive(interodwrotny, m=(1,180),obrposymu=fixed(obrposymu2),linie=fixed(linie2),img=fixed(img2))\n",
    "output = interactive_plot.children[-1]\n",
    "output.layout.height = '350px'\n",
    "interactive_plot"
   ]
  },
  {
   "cell_type": "code",
   "execution_count": null,
   "metadata": {},
   "outputs": [],
   "source": []
  },
  {
   "cell_type": "code",
   "execution_count": 11,
   "metadata": {},
   "outputs": [
    {
     "data": {
      "image/png": "[encoded data removed]",
      "text/plain": [
       "<Figure size 720x324 with 3 Axes>"
      ]
     },
     "metadata": {
      "needs_background": "light"
     },
     "output_type": "display_data"
    }
   ],
   "source": [
    "fig, (ax1, ax2,ax3) = plt.subplots(1, 3, figsize=(10, 4.5),squeeze=True)\n",
    "ax1.set_title(\"Original\")\n",
    "ax1.imshow(img, cmap=plt.cm.Greys_r)\n",
    "ax2.set_title(\"Sinogram\")\n",
    "ax2.set_xlabel(\"Angle\")\n",
    "ax2.set_ylabel(\"Detectors(pixels)\")\n",
    "ax2.imshow( ndimage.rotate(obrposymu, 90),cmap=plt.cm.Greys_r)\n",
    "ax3.set_title(\"Reverse transform\")\n",
    "ax3.imshow(obrpoodwrotnej,cmap=plt.cm.Greys_r)\n",
    "fig.tight_layout()\n",
    "plt.show()"
   ]
  },
  {
   "cell_type": "code",
   "execution_count": 12,
   "metadata": {},
   "outputs": [
    {
     "data": {
      "application/vnd.jupyter.widget-view+json": {
       "model_id": "ce5e845afe1f493ca0e48bee1e7340c6",
       "version_major": 2,
       "version_minor": 0
      },
      "text/plain": [
       "interactive(children=(FloatSlider(value=0.0, description='m', max=2.0, min=-2.0), FloatSlider(value=0.0, descr…"
      ]
     },
     "metadata": {},
     "output_type": "display_data"
    }
   ],
   "source": [
    "\n",
    "def f(m, b):\n",
    "    plt.figure(2)\n",
    "    x = np.linspace(-10, 10, num=1000)\n",
    "    plt.plot(x, m * x + b)\n",
    "    plt.ylim(-5, 5)\n",
    "    plt.show()\n",
    "\n",
    "interactive_plot = interactive(f, m=(-2.0, 2.0), b=(-3, 3, 0.5))\n",
    "output = interactive_plot.children[-1]\n",
    "output.layout.height = '350px'\n",
    "interactive_plot"
   ]
  },
  {
   "cell_type": "code",
   "execution_count": 13,
   "metadata": {},
   "outputs": [
    {
     "ename": "ModuleNotFoundError",
     "evalue": "No module named 'pydicom'",
     "output_type": "error",
     "traceback": [
      "\u001b[1;31m---------------------------------------------------------------------------\u001b[0m",
      "\u001b[1;31mModuleNotFoundError\u001b[0m                       Traceback (most recent call last)",
      "\u001b[1;32m<ipython-input-13-17cac47c2902>\u001b[0m in \u001b[0;36m<module>\u001b[1;34m\u001b[0m\n\u001b[0;32m      2\u001b[0m \u001b[1;32mimport\u001b[0m \u001b[0mtempfile\u001b[0m\u001b[1;33m\u001b[0m\u001b[1;33m\u001b[0m\u001b[0m\n\u001b[0;32m      3\u001b[0m \u001b[1;32mimport\u001b[0m \u001b[0mdatetime\u001b[0m\u001b[1;33m\u001b[0m\u001b[1;33m\u001b[0m\u001b[0m\n\u001b[1;32m----> 4\u001b[1;33m \u001b[1;32mfrom\u001b[0m \u001b[0mpydicom\u001b[0m\u001b[1;33m.\u001b[0m\u001b[0mdata\u001b[0m \u001b[1;32mimport\u001b[0m \u001b[0mget_testdata_file\u001b[0m\u001b[1;33m\u001b[0m\u001b[1;33m\u001b[0m\u001b[0m\n\u001b[0m\u001b[0;32m      5\u001b[0m \u001b[1;32mimport\u001b[0m \u001b[0mpydicom\u001b[0m\u001b[1;33m\u001b[0m\u001b[1;33m\u001b[0m\u001b[0m\n\u001b[0;32m      6\u001b[0m \u001b[1;32mfrom\u001b[0m \u001b[0mpydicom\u001b[0m\u001b[1;33m.\u001b[0m\u001b[0mdataset\u001b[0m \u001b[1;32mimport\u001b[0m \u001b[0mDataset\u001b[0m\u001b[1;33m,\u001b[0m \u001b[0mFileDataset\u001b[0m\u001b[1;33m,\u001b[0m \u001b[0mFileMetaDataset\u001b[0m\u001b[1;33m\u001b[0m\u001b[1;33m\u001b[0m\u001b[0m\n",
      "\u001b[1;31mModuleNotFoundError\u001b[0m: No module named 'pydicom'"
     ]
    }
   ],
   "source": [
    "import os\n",
    "import tempfile\n",
    "import datetime\n",
    "from pydicom.data import get_testdata_file\n",
    "import pydicom\n",
    "from pydicom.dataset import Dataset, FileDataset, FileMetaDataset\n",
    "def savetodicom(obraz,imnaz=\"Jan^Nowak\",wiek=\"20\",sex=\"M\",databad=datetime.datetime.now().strftime('%Y%m%d'),komentarz=\"No comment\"):\n",
    "    # Create some temporary filenames\n",
    "    suffix = '.dcm'\n",
    "    filename_little_endian = \"plikwynikowy\"+suffix\n",
    "    filename_big_endian =\"plikwynikowy2\"+suffix\n",
    "\n",
    "\n",
    "    file_meta = FileMetaDataset()\n",
    "    file_meta.MediaStorageSOPClassUID = '1.2.840.10008.5.1.4.1.1.2'\n",
    "    file_meta.MediaStorageSOPInstanceUID = \"1.2.3\"\n",
    "    file_meta.ImplementationClassUID = \"1.2.3.4\"\n",
    "    print(\"Setting dataset values...\")\n",
    "    # Create the FileDataset instance (initially no data elements, but file_meta\n",
    "    # supplied)\n",
    "    ds = FileDataset(filename_little_endian, {},\n",
    "                     file_meta=file_meta, preamble=b\"\\0\" * 128)\n",
    "\n",
    "    ds = pydicom.dcmread(\"dicom/CT_ScoutView.dcm\")\n",
    "    ds.InstanceNumber=\"20\"\n",
    "    dt = datetime.datetime.now()\n",
    "    #Data elements according to DICOM standars\n",
    "    ds.PatientName = imnaz\n",
    "    ds.PatientID = \"123456\"\n",
    "    ds.StudyDate=dt.strftime('%Y%m%d')\n",
    "    ds.StudyTime=dt.strftime('%H%M%S.%f')\n",
    "    ds.AccessionNumber=\"12\"\n",
    "    ds.ConsultingPhysicianName=\"Jan^Ciechanowicz\"\n",
    "    ds.PatientBirthDate=dt.strftime('%Y%m%d')\n",
    "    ds.PatientSex=sex\n",
    "    ds.StudyID=\"123456\"\n",
    "    ds.SeriesNumber=\"123456\"\n",
    "    ds.PatientOrientation=\"R\"\n",
    "    ds.PatientAge=wiek\n",
    "    img_r, img_c = obraz.shape \n",
    "    obraz=(obraz*255)*(-1)+255\n",
    "    obraz = obraz.astype(np.uint8)\n",
    "    ds.BitsAllocated=8\n",
    "    ds.SamplesPerPixel=1\n",
    "    ds.PhotometricInterpretation=\"MONOCHROME1\"\n",
    "    ds.PixelRepresentation=1\n",
    "    ds.SliceThickness = 1.0            \n",
    "    ds.SpacingBetweenSlices = 1.0\n",
    "    ds.Rows = img_r\n",
    "    ds.Columns = img_c\n",
    "    ds.ImageComments=komentarz\n",
    "    ds.StudyDate=databad\n",
    "    ds.StudyTime=dt.strftime('%H%M%S.%f')\n",
    "\n",
    "\n",
    "        # Set the transfer syntax\n",
    "    ds.PixelData = obraz.tobytes()\n",
    "\n",
    "    # Write as a different transfer syntax XXX shouldn't need this but pydicom\n",
    "    # 0.9.5 bug not recognizing transfer syntax\n",
    "    ds.file_meta.TransferSyntaxUID = pydicom.uid.ExplicitVRLittleEndian\n",
    "\n",
    "    #ds.is_little_endian = True\n",
    "    #ds.is_implicit_VR = True\n",
    "    # Set creation date/time\n",
    "    \n",
    "    ds.ContentDate = dt.strftime('%Y%m%d')\n",
    "    timeStr = dt.strftime('%H%M%S.%f')  # long format with micro seconds\n",
    "    ds.ContentTime = timeStr\n",
    "    ds.save_as(filename_little_endian)\n",
    "    ds.save_as(filename_big_endian)\n",
    "    print(\"Zapisano pomyslnie\")\n",
    "savetodicom(obrpoodwrotnej)"
   ]
  },
  {
   "cell_type": "code",
   "execution_count": null,
   "metadata": {},
   "outputs": [],
   "source": [
    "import matplotlib.pyplot as plt\n",
    "import pydicom\n",
    "from pydicom.data import get_testdata_files\n",
    "filename = \"siema.dcm\"\n",
    "#filename=\"dicom/CT_ScoutView.dcm\"\n",
    "ds = pydicom.dcmread(filename)\n",
    "plt.imshow(ds.pixel_array, cmap=plt.cm.bone)\n",
    "ds.pixel_array"
   ]
  },
  {
   "cell_type": "code",
   "execution_count": null,
   "metadata": {},
   "outputs": [],
   "source": []
  },
  {
   "cell_type": "code",
   "execution_count": null,
   "metadata": {},
   "outputs": [],
   "source": [
    "import numpy as np\n",
    "import matplotlib.pyplot as plt\n",
    "from skimage.transform import iradon\n",
    "\n",
    "from skimage.transform import radon, rescale\n",
    "\n",
    "image = io.imread('tomograf-zdjecia/Shepp_logan.jpg', as_gray=True)\n",
    "\n",
    "fig, (ax1, ax2) = plt.subplots(1, 2, figsize=(8, 4.5))\n",
    "\n",
    "\n",
    "ax1.set_title(\"Original\")\n",
    "ax1.imshow(image, cmap=plt.cm.Greys_r)\n",
    "\n",
    "theta = np.linspace(0., 180., max(image.shape), endpoint=False)\n",
    "sinogram = radon(image, theta=theta, circle=True)\n",
    "\n",
    "\n",
    "dx, dy = 0.5 * 180.0 / max(image.shape), 0.5 / sinogram.shape[0]\n",
    "ax2.set_title(\"Radon transform\\n(Sinogram)\")\n",
    "ax2.set_xlabel(\"Projection angle (deg)\")\n",
    "ax2.set_ylabel(\"Projection position (pixels)\")\n",
    "ax2.imshow(sinogram, cmap=plt.cm.Greys_r,\n",
    "           extent=(-dx, 180.0 + dx, -dy, sinogram.shape[0] + dy),\n",
    "           aspect='auto')\n",
    "fig.tight_layout()\n",
    "plt.show()"
   ]
  },
  {
   "cell_type": "code",
   "execution_count": null,
   "metadata": {},
   "outputs": [],
   "source": []
  }
 ],
 "metadata": {
  "kernelspec": {
   "display_name": "Python 3",
   "language": "python",
   "name": "python3"
  },
  "language_info": {
   "codemirror_mode": {
    "name": "ipython",
    "version": 3
   },
   "file_extension": ".py",
   "mimetype": "text/x-python",
   "name": "python",
   "nbconvert_exporter": "python",
   "pygments_lexer": "ipython3",
   "version": "3.8.5"
  }
 },
 "nbformat": 4,
 "nbformat_minor": 4
}
